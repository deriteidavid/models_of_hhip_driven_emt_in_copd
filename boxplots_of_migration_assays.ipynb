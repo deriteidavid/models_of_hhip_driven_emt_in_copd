{
 "cells": [
  {
   "cell_type": "code",
   "execution_count": 1,
   "id": "4177e06f",
   "metadata": {},
   "outputs": [],
   "source": [
    "import matplotlib.pyplot as plt\n",
    "import scipy "
   ]
  },
  {
   "cell_type": "markdown",
   "id": "6cd699b2",
   "metadata": {},
   "source": [
    "## The migration rate values are manually parsed from the spreadsheet where the analysis was conducted\n",
    "\n",
    "/udd/spdde/HHIP_EMT/Channing_Review/scratch_assay_docs/HHIP_scratch_assay_manual_measurements.xlsx"
   ]
  },
  {
   "cell_type": "markdown",
   "id": "4a1d5d99",
   "metadata": {},
   "source": [
    "Experiment 0 (s0)"
   ]
  },
  {
   "cell_type": "code",
   "execution_count": 2,
   "id": "f92e9d04",
   "metadata": {},
   "outputs": [],
   "source": [
    "# sheet s0 cells c25:c32\n",
    "control_s0_24h = [0.4804402796,\n",
    "0.3876617581,\n",
    "0.6878991375,\n",
    "0.5363843433,\n",
    "0.2206604195,\n",
    "0.4154953146,\n",
    "0.4191257785,\n",
    "0.6103302097]\n",
    "# sheet s0 cells e25:e32\n",
    "hhip_s0_KO_24h = [0.6238397655,\n",
    "0.529494382,\n",
    "0.5297009253,\n",
    "0.4173354735,\n",
    "0.7517054575,\n",
    "0.6848314607,\n",
    "0.66894061,\n",
    "0.7103230337]"
   ]
  },
  {
   "cell_type": "markdown",
   "id": "46a7d65c",
   "metadata": {},
   "source": [
    "Experiment 1 (s1)"
   ]
  },
  {
   "cell_type": "code",
   "execution_count": 3,
   "id": "f177d43b",
   "metadata": {},
   "outputs": [],
   "source": [
    "#sheet s1 cells f15:i17\n",
    "control_s1_KO_24h = [0.6838464114,0.4949246156,0.419016638,0.5730941704,0.502745457,\n",
    "                  0.4118953963,0.5737954096,0.6235141958,0.5070112398,0.5195963922,0.5364980402,0.61139409]\n",
    "#sheet s1 cells j15:m17\n",
    "control_s1_KO_48h = [1, 0.6683004926, 0.6960361275, 0.8003133611,\n",
    "                    0.7921216753, 0.6738581731, 0.8697325056, 0.9278825516,\n",
    "                    0.7297770074, 0.7245396146, 0.7819955878, 0.849908107]\n",
    "\n",
    "#sheet s1 cells r15:u17\n",
    "hhip_s1_KO_24h = [0.469378682, 0.5742459215, 0.5733933765, 0.5593049334,\n",
    "0.5459688826, 0.531623155, 0.5890032745, 0.5310391363,\n",
    "0.5872444387, 0.6416458618, 0.6062756883, 0.5775302945]\n",
    "\n",
    "#sheet s1 cells v15:y17\n",
    "hhip_s1_KO_48h = [0.7326395316, 0.8104965861, 0.8999493747, 0.8977110639,\n",
    "0.855355286, 0.7392521941, 0.8427091491, 0.8627923755,\n",
    "0.8705278084, 0.8852240244, 0.9385244092, 0.8955949191]"
   ]
  },
  {
   "cell_type": "markdown",
   "id": "45901a45",
   "metadata": {},
   "source": [
    "Experiment 2 (s2)"
   ]
  },
  {
   "cell_type": "code",
   "execution_count": 4,
   "id": "d31287b1",
   "metadata": {},
   "outputs": [],
   "source": [
    "#sheet s2 f15:i17\n",
    "control_s2_KO_24h = [0.6023514337, 0.4168259867, 0.553114068, 0.4818748679,\n",
    "0.5480377499, 0.3872379902, 0.518503552, 0.5573658269,\n",
    "0.4640751496, 0.4869556846, 0.601903455, 0.4233419032]\n",
    "\n",
    "#sheet s2 j15:m17\n",
    "control_s2_KO_48h = [0.7726734041, 0.6681912377, 0.6478220807, 0.6624915655,\n",
    "0.7948102747, 0.6917397838, 0.6927551255, 0.6270541958,\n",
    "0.6972461052, 0.6320287233, 0.7505817532, 0.6055278404]\n",
    "\n",
    "#sheet s2 r15:u17\n",
    "hhip_s2_KO_24h = [0.6157057075, 0.4563709345, 0.3297367483, 0.376976948,\n",
    "0.5639387077, 0.4685283197, 0.4244056009, 0.4776229099,\n",
    "0.5797343769, 0.4877886404, 0.5093503494, 0.4054119593]\n",
    "\n",
    "#sheet s2 v15:y17\n",
    "hhip_s2_KO_48h = [0.7955463592, 0.5923240938, 0.5427339826, 0.5034156664,\n",
    "0.7320659971, 0.6362641177, 0.5700185233, 0.6500989948,\n",
    "0.7920479303, 0.6429685543, 0.6461945635, 0.6107622979]"
   ]
  },
  {
   "cell_type": "code",
   "execution_count": 5,
   "id": "38e24394",
   "metadata": {},
   "outputs": [
    {
     "name": "stderr",
     "output_type": "stream",
     "text": [
      "<frozen importlib._bootstrap>:228: RuntimeWarning: scipy._lib.messagestream.MessageStream size changed, may indicate binary incompatibility. Expected 56 from C header, got 64 from PyObject\n"
     ]
    },
    {
     "name": "stdout",
     "output_type": "stream",
     "text": [
      "TtestResult(statistic=-1.0411815241674283, pvalue=0.30909891290497654, df=22.0)\n",
      "TtestResult(statistic=-1.7024054952704006, pvalue=0.10276929385588766, df=22.0)\n"
     ]
    }
   ],
   "source": [
    "print(scipy.stats.ttest_ind(control_s1_KO_24h,hhip_s1_KO_24h))\n",
    "print(scipy.stats.ttest_ind(control_s1_KO_48h,hhip_s1_KO_48h))"
   ]
  },
  {
   "cell_type": "code",
   "execution_count": 6,
   "id": "9c1a8ec0",
   "metadata": {},
   "outputs": [
    {
     "name": "stdout",
     "output_type": "stream",
     "text": [
      "TtestResult(statistic=0.900630782508952, pvalue=0.37753844119851054, df=22.0)\n",
      "TtestResult(statistic=1.3984910538059228, pvalue=0.17590467877269175, df=22.0)\n"
     ]
    }
   ],
   "source": [
    "print(scipy.stats.ttest_ind(control_s2_KO_24h,hhip_s2_KO_24h))\n",
    "print(scipy.stats.ttest_ind(control_s2_KO_48h,hhip_s2_KO_48h))"
   ]
  },
  {
   "cell_type": "code",
   "execution_count": 7,
   "id": "3d13c533",
   "metadata": {},
   "outputs": [
    {
     "data": {
      "text/plain": [
       "TtestResult(statistic=-2.232489335839408, pvalue=0.04243062349604178, df=14.0)"
      ]
     },
     "execution_count": 7,
     "metadata": {},
     "output_type": "execute_result"
    }
   ],
   "source": [
    "scipy.stats.ttest_ind(control_s0_24h,hhip_s0_KO_24h)"
   ]
  },
  {
   "cell_type": "code",
   "execution_count": 9,
   "id": "33a6f97f",
   "metadata": {},
   "outputs": [
    {
     "name": "stderr",
     "output_type": "stream",
     "text": [
      "/tmp/ipykernel_23454/3965378647.py:2: MatplotlibDeprecationWarning: The 'labels' parameter of boxplot() has been renamed 'tick_labels' since Matplotlib 3.9; support for the old name will be dropped in 3.11.\n",
      "  axs[0].boxplot([control_s0_24h,hhip_s0_KO_24h],labels=['control 24h', 'HHIP siRNA 24h'],widths=0.5)\n",
      "/tmp/ipykernel_23454/3965378647.py:12: MatplotlibDeprecationWarning: The 'labels' parameter of boxplot() has been renamed 'tick_labels' since Matplotlib 3.9; support for the old name will be dropped in 3.11.\n",
      "  axs[1].boxplot([control_s1_KO_24h,hhip_s1_KO_24h,control_s1_KO_48h,hhip_s1_KO_48h],\n",
      "/tmp/ipykernel_23454/3965378647.py:23: MatplotlibDeprecationWarning: The 'labels' parameter of boxplot() has been renamed 'tick_labels' since Matplotlib 3.9; support for the old name will be dropped in 3.11.\n",
      "  axs[2].boxplot([control_s2_KO_24h,hhip_s2_KO_24h,control_s2_KO_48h,hhip_s2_KO_48h],\n"
     ]
    },
    {
     "data": {
      "image/png": "[encoded data removed]",
      "text/plain": [
       "<Figure size 720x432 with 3 Axes>"
      ]
     },
     "metadata": {
      "needs_background": "light"
     },
     "output_type": "display_data"
    }
   ],
   "source": [
    "f,axs = plt.subplots(1,3,sharey=True,width_ratios=[1,2,2],figsize=(10,6))\n",
    "axs[0].boxplot([control_s0_24h,hhip_s0_KO_24h],labels=['control 24h', 'HHIP siRNA 24h'],widths=0.5)\n",
    "axs[0].set_title('Experiment 1')\n",
    "axs[0].set_xticklabels(axs[0].get_xticklabels(), rotation=45, ha='right')\n",
    "axs[0].set_ylabel(r'Migration rate = $\\frac{d_0-d_t}{d_0}$')\n",
    "\n",
    "y, h, col = max(map(max, [control_s0_24h,hhip_s0_KO_24h])) + .1, .1, 'k'\n",
    "x1, x2 = 1, 2\n",
    "axs[0].plot([x1, x1, x2, x2], [y, y+h, y+h, y], lw=1.5, c=col)\n",
    "axs[0].text((x1+x2)*.5, y+h, \"p<0.05\", ha='center', va='bottom', color=col)\n",
    "\n",
    "axs[1].boxplot([control_s1_KO_24h,hhip_s1_KO_24h,control_s1_KO_48h,hhip_s1_KO_48h],\n",
    "              labels=['control 24h', 'HHIP siRNA 24h','control 48h', 'HHIP siRNA 48h' ])\n",
    "axs[1].set_title('Experiment 2')\n",
    "axs[1].set_xticklabels(axs[1].get_xticklabels(), rotation=45, ha='right')\n",
    "\n",
    "y, h, col = max(map(max, [control_s1_KO_48h,hhip_s1_KO_48h])) + .1, .1, 'k'\n",
    "x1, x2 = 3, 4\n",
    "axs[1].plot([x1, x1, x2, x2], [y, y+h, y+h, y], lw=1.5, c=col)\n",
    "axs[1].text((x1+x2)*.5, y+h, \"p~0.1\", ha='center', va='bottom', color=col)\n",
    "\n",
    "\n",
    "axs[2].boxplot([control_s2_KO_24h,hhip_s2_KO_24h,control_s2_KO_48h,hhip_s2_KO_48h],\n",
    "labels=['control 24h', 'HHIP siRNA 24h','control 48h', 'HHIP siRNA 48h' ])\n",
    "axs[2].set_title('Experiment 3')\n",
    "axs[2].set_xticklabels(axs[2].get_xticklabels(), rotation=45, ha='right')\n",
    "plt.savefig('FigureS8.png',bbox_inches='tight',dpi=300)\n",
    "plt.savefig('FigureS8.tiff',bbox_inches='tight')"
   ]
  },
  {
   "cell_type": "code",
   "execution_count": null,
   "id": "2ce80653",
   "metadata": {},
   "outputs": [],
   "source": []
  }
 ],
 "metadata": {
  "kernelspec": {
   "display_name": "Python 3 (ipykernel)",
   "language": "python",
   "name": "python3"
  },
  "language_info": {
   "codemirror_mode": {
    "name": "ipython",
    "version": 3
   },
   "file_extension": ".py",
   "mimetype": "text/x-python",
   "name": "python",
   "nbconvert_exporter": "python",
   "pygments_lexer": "ipython3",
   "version": "3.9.16"
  }
 },
 "nbformat": 4,
 "nbformat_minor": 5
}
