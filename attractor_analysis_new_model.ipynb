{
 "cells": [
  {
   "cell_type": "markdown",
   "id": "2ea8fc71",
   "metadata": {},
   "source": [
    "# This Document contains the attractor analysis of the Hedghehog-EMT model "
   ]
  },
  {
   "cell_type": "markdown",
   "id": "45ce05e9",
   "metadata": {},
   "source": [
    "We use AEON.py for to find the attractors, to install the exact version we use run:<br>`pip install biodivine_aeon==1.0.0a6`"
   ]
  },
  {
   "cell_type": "code",
   "execution_count": 1,
   "id": "9f2c64f4",
   "metadata": {},
   "outputs": [
    {
     "name": "stdout",
     "output_type": "stream",
     "text": [
      "Detected IPython (`ZMQInteractiveShell`). Log level set to `LOG_ESSENTIAL`.\n"
     ]
    }
   ],
   "source": [
    "import biodivine_aeon as ba\n",
    "from pathlib import Path\n",
    "import os.path\n",
    "import numpy as np\n",
    "import pandas as pd"
   ]
  },
  {
   "cell_type": "code",
   "execution_count": 2,
   "id": "b0b6d2ae",
   "metadata": {},
   "outputs": [],
   "source": [
    "model_name = 'HH_EMT'"
   ]
  },
  {
   "cell_type": "markdown",
   "id": "e6abf2fa",
   "metadata": {},
   "source": [
    "convert boolean net format to bnet"
   ]
  },
  {
   "cell_type": "code",
   "execution_count": 3,
   "id": "3a28ca42",
   "metadata": {},
   "outputs": [],
   "source": [
    "import pystablemotifs as sm\n",
    "with open(model_name + '.booleannet','r') as f:\n",
    "    rules = f.read()\n",
    "rules=sm.format.booleannet2bnet(rules)\n",
    "with open(model_name + '.bnet','w') as f:\n",
    "    f.write(rules)"
   ]
  },
  {
   "cell_type": "code",
   "execution_count": 4,
   "id": "88599851",
   "metadata": {},
   "outputs": [],
   "source": [
    "bn = ba.BooleanNetwork.from_file(model_name + \".bnet\")"
   ]
  },
  {
   "cell_type": "code",
   "execution_count": 5,
   "id": "ba1708c0",
   "metadata": {},
   "outputs": [
    {
     "name": "stdout",
     "output_type": "stream",
     "text": [
      "BooleanNetwork(variables=22, regulations=50, explicit_parameters=2, implicit_parameters=0)\n"
     ]
    }
   ],
   "source": [
    "bn = bn.inline_inputs(infer_inputs=True, repair_graph=True)\n",
    "print(bn)\n",
    "\n",
    "ctx = ba.SymbolicSpaceContext(bn)\n",
    "graph = ba.AsynchronousGraph(bn, ctx)"
   ]
  },
  {
   "cell_type": "markdown",
   "id": "16839070",
   "metadata": {},
   "source": [
    "# Steady states "
   ]
  },
  {
   "cell_type": "code",
   "execution_count": 6,
   "id": "8b4fef4c",
   "metadata": {},
   "outputs": [
    {
     "name": "stdout",
     "output_type": "stream",
     "text": [
      "Start symbolic fixed-point search with 16777216[nodes:2] candidates.\n",
      "Found 2[nodes:27] fixed-points.\n"
     ]
    }
   ],
   "source": [
    "fixed_points = ba.FixedPoints.symbolic(graph, graph.mk_unit_colored_vertices())"
   ]
  },
  {
   "cell_type": "code",
   "execution_count": 7,
   "id": "fbfc68b7",
   "metadata": {},
   "outputs": [],
   "source": [
    "#Export into dictionary\n",
    "all_steady_states = []\n",
    "for param, vertex in fixed_points:\n",
    "    steady_state_dict = {}\n",
    "    for param_name in bn.explicit_parameter_names():\n",
    "        steady_state_dict[param_name] = param[param_name].as_const()\n",
    "        \n",
    "    for variable_name in bn.variable_names():\n",
    "        steady_state_dict[variable_name] = vertex[variable_name]\n",
    "\n",
    "    all_steady_states.append(steady_state_dict)\n"
   ]
  },
  {
   "cell_type": "code",
   "execution_count": 8,
   "id": "76a57567",
   "metadata": {},
   "outputs": [
    {
     "data": {
      "text/plain": [
       "[{'Damage': False,\n",
       "  'neighbor': False,\n",
       "  'AJ': False,\n",
       "  'B_catenin_TCF4': False,\n",
       "  'B_catenin_nuc': False,\n",
       "  'E_cadherin': True,\n",
       "  'GLI': False,\n",
       "  'HHIP': False,\n",
       "  'LEF1': False,\n",
       "  'Migration': False,\n",
       "  'NFKB': False,\n",
       "  'PAK1': False,\n",
       "  'Patched': True,\n",
       "  'Rac1': False,\n",
       "  'SHH': False,\n",
       "  'SMO': False,\n",
       "  'SNAI1': False,\n",
       "  'SNAI2': False,\n",
       "  'SUFU': True,\n",
       "  'TGFb_secr': False,\n",
       "  'TWIST1': False,\n",
       "  'ZEB1': False,\n",
       "  'miR_200': True,\n",
       "  'miR_34': True},\n",
       " {'Damage': False,\n",
       "  'neighbor': True,\n",
       "  'AJ': True,\n",
       "  'B_catenin_TCF4': False,\n",
       "  'B_catenin_nuc': False,\n",
       "  'E_cadherin': True,\n",
       "  'GLI': False,\n",
       "  'HHIP': False,\n",
       "  'LEF1': False,\n",
       "  'Migration': False,\n",
       "  'NFKB': False,\n",
       "  'PAK1': False,\n",
       "  'Patched': True,\n",
       "  'Rac1': False,\n",
       "  'SHH': False,\n",
       "  'SMO': False,\n",
       "  'SNAI1': False,\n",
       "  'SNAI2': False,\n",
       "  'SUFU': True,\n",
       "  'TGFb_secr': False,\n",
       "  'TWIST1': False,\n",
       "  'ZEB1': False,\n",
       "  'miR_200': True,\n",
       "  'miR_34': True}]"
      ]
     },
     "execution_count": 8,
     "metadata": {},
     "output_type": "execute_result"
    }
   ],
   "source": [
    "all_steady_states"
   ]
  },
  {
   "cell_type": "code",
   "execution_count": 9,
   "id": "f47ff813",
   "metadata": {},
   "outputs": [],
   "source": [
    "#plot_state_succession(newly_found_steady_states,state_labels=None,title=None, nodes=[i.strip() for i in df_attr['node']], fontsizex=10)"
   ]
  },
  {
   "cell_type": "markdown",
   "id": "b75cef4c",
   "metadata": {},
   "source": [
    "# Complex attractors"
   ]
  },
  {
   "cell_type": "code",
   "execution_count": 10,
   "id": "d4d4ce2d",
   "metadata": {},
   "outputs": [
    {
     "name": "stdout",
     "output_type": "stream",
     "text": [
      "Loaded minimal traps:  ColoredSpaceSet(cardinality=2, symbolic_size=91)\n"
     ]
    }
   ],
   "source": [
    "complex_attractor_mean_states = []\n",
    "\n",
    "# Next, search for all minimal trap spaces.\n",
    "\n",
    "if not os.path.isfile('minimal-traps.bdd'):\n",
    "    # Compute the minimal trap spaces, but skip anything that contains a fixed-point, because\n",
    "    # we already reported those. This will take a few hours, but should finish \n",
    "    # and will report progress.\n",
    "    #\n",
    "    # This could be faster if we first pre-computed some kindidates on a reduced network,\n",
    "    # but this should be \"good enough\" for this case.\n",
    "    #\n",
    "    candidate_spaces = ctx.mk_unit_colored_spaces(graph)\n",
    "    contains_fixed_point = ctx.mk_super_spaces(fixed_points.to_singleton_spaces(ctx))\n",
    "    candidate_spaces = candidate_spaces.minus(contains_fixed_point)\n",
    "    minimal_traps = ba.TrapSpaces.minimal_symbolic(ctx, graph, candidate_spaces)\n",
    "    print(\"Computed minimal traps: \", minimal_traps)\n",
    "\n",
    "    # Save for later.\n",
    "    Path('minimal-traps.bdd').write_text(minimal_traps.to_bdd().data_string())\n",
    "else:\n",
    "    # Result exists, reload it from file.\n",
    "    bdd = ba.Bdd(ctx.bdd_variable_set(), Path('minimal-traps.bdd').read_text())\n",
    "    minimal_traps = ba.ColoredSpaceSet(ctx, bdd)\n",
    "    print(\"Loaded minimal traps: \", minimal_traps)\n"
   ]
  },
  {
   "cell_type": "code",
   "execution_count": 11,
   "id": "b788857d",
   "metadata": {},
   "outputs": [
    {
     "name": "stdout",
     "output_type": "stream",
     "text": [
      " >>>>> MINIMAL TRAP SPACES <<<<<\n",
      "Minimap trap space: inputs(ColorModel({'Damage': 'true', 'neighbor': 'false'})) variables(SpaceModel({'AJ': 0, 'B_catenin_TCF4': *, 'B_catenin_nuc': *, 'E_cadherin': *, 'GLI': *, 'HHIP': *, 'LEF1': 1, 'Migration': *, 'NFKB': 1, 'PAK1': *, 'Patched': *, 'Rac1': *, 'SHH': *, 'SMO': *, 'SNAI1': *, 'SNAI2': *, 'SUFU': *, 'TGFb_secr': *, 'TWIST1': *, 'ZEB1': *, 'miR_200': *, 'miR_34': *}))\n",
      "Minimap trap space: inputs(ColorModel({'Damage': 'true', 'neighbor': 'true'})) variables(SpaceModel({'AJ': 1, 'B_catenin_TCF4': 0, 'B_catenin_nuc': 0, 'E_cadherin': 1, 'GLI': *, 'HHIP': *, 'LEF1': 1, 'Migration': 0, 'NFKB': 1, 'PAK1': *, 'Patched': *, 'Rac1': *, 'SHH': *, 'SMO': *, 'SNAI1': *, 'SNAI2': *, 'SUFU': *, 'TGFb_secr': 0, 'TWIST1': *, 'ZEB1': 0, 'miR_200': 1, 'miR_34': *}))\n",
      "Start Xie-Beerel attractor detection on 528384[nodes:18] candidates.\n",
      "Found complex attractor for ColorModel({'Damage': 'true', 'neighbor': 'true'}) with 768 vertices.\n",
      "Found complex attractor for ColorModel({'Damage': 'true', 'neighbor': 'false'}) with 73728 vertices.\n",
      " > Found a bottom SCC: 768x1[nodes:43].\n",
      " > Found a bottom SCC: 73728x1[nodes:35].\n",
      "Attractor detection finished with 2 results.\n"
     ]
    }
   ],
   "source": [
    "print(\" >>>>> MINIMAL TRAP SPACES <<<<<\")\n",
    "for param, space in minimal_traps:\n",
    "    print(f\"Minimap trap space: inputs({param}) variables({space})\")\n",
    "\n",
    "complex_attractor_mean_states = []\n",
    "\n",
    "# Now we can search for attractors *inside* the minimal trap spaces.\n",
    "# There are slightly more efficient ways to do this (ideally, we just want to process\n",
    "# each minimal trap independently), but here it seems that this is fast enough.\n",
    "\n",
    "trap_states = minimal_traps.to_colored_vertices(ctx)\n",
    "# We can just use this simpler algorithm, because the minimal trap spaces are rather small already.\n",
    "attractor_sets = ba.Attractors.xie_beerel(graph, trap_states)\n",
    "instantiated_attractors = []\n",
    "for attractor in attractor_sets:\n",
    "    for input_valuation in attractor.colors():\n",
    "        # This is still a relation of vertices and colors, but it only contains a single color (input valuation), \n",
    "        # hence a single attractor.\n",
    "        attractor_states = attractor.intersect_colors(input_valuation.to_symbolic())\n",
    "        instantiated_attractors.append(attractor_states)\n",
    "        print(f\"Found complex attractor for {input_valuation} with {attractor_states.cardinality()} vertices.\")\t\n",
    "\n",
    "        complex_attractor_mean_state = {}\n",
    "\n",
    "        # This prints per-variable statistics about variable values.\t\t\n",
    "        for var in graph.network_variables():\n",
    "            # Splits the attractor states based on the value of `var` and prints statistics about the split.\n",
    "            attr_true = graph.mk_subspace({ var: 1 }).intersect(attractor_states)\n",
    "            attr_false = graph.mk_subspace({ var: 0 }).intersect(attractor_states)\n",
    "            #print(f\"Variable {graph.get_network_variable_name(var)}: {attr_true.cardinality()} one / {attr_false.cardinality()} zero | {float(attr_true.cardinality())/attractor_states.cardinality()}\")\n",
    "            \n",
    "            for param_name in bn.explicit_parameter_names():            \t\n",
    "            \tcomplex_attractor_mean_state[param_name]=float(input_valuation[param_name].as_const())\n",
    "            complex_attractor_mean_state[graph.get_network_variable_name(var)] = float(attr_true.cardinality())/attractor_states.cardinality()        \n",
    "        complex_attractor_mean_states.append(complex_attractor_mean_state)\n"
   ]
  },
  {
   "cell_type": "code",
   "execution_count": 12,
   "id": "cd4acf3b",
   "metadata": {},
   "outputs": [
    {
     "data": {
      "text/plain": [
       "2"
      ]
     },
     "execution_count": 12,
     "metadata": {},
     "output_type": "execute_result"
    }
   ],
   "source": [
    "len(complex_attractor_mean_states)"
   ]
  },
  {
   "cell_type": "code",
   "execution_count": 13,
   "id": "b9282674",
   "metadata": {},
   "outputs": [
    {
     "name": "stdout",
     "output_type": "stream",
     "text": [
      "ColorModel({'Damage': 'true', 'neighbor': 'false'})\n"
     ]
    }
   ],
   "source": [
    "print(input_valuation)"
   ]
  },
  {
   "cell_type": "code",
   "execution_count": 14,
   "id": "fd6156e1",
   "metadata": {},
   "outputs": [
    {
     "name": "stdout",
     "output_type": "stream",
     "text": [
      "Damage True\n",
      "neighbor False\n"
     ]
    }
   ],
   "source": [
    "for param_name in bn.explicit_parameter_names():\n",
    "    print(param_name, input_valuation[param_name].as_const())"
   ]
  },
  {
   "cell_type": "code",
   "execution_count": 15,
   "id": "d7a0ecfa",
   "metadata": {},
   "outputs": [],
   "source": [
    "df = pd.DataFrame(all_steady_states+complex_attractor_mean_states).astype(float)\n",
    "node_order = list(all_steady_states[0].keys())\n",
    "df = df[node_order]\n",
    "df=df.transpose()\n",
    "\n"
   ]
  },
  {
   "cell_type": "code",
   "execution_count": 16,
   "id": "6e68f6ce",
   "metadata": {
    "scrolled": false
   },
   "outputs": [
    {
     "data": {
      "text/plain": [
       "<matplotlib.colorbar.Colorbar at 0x7b7f119c2460>"
      ]
     },
     "execution_count": 16,
     "metadata": {},
     "output_type": "execute_result"
    },
    {
     "data": {
      "image/png": "[encoded data removed]",
      "text/plain": [
       "<Figure size 1500x3000 with 2 Axes>"
      ]
     },
     "metadata": {},
     "output_type": "display_data"
    }
   ],
   "source": [
    "import matplotlib.pyplot as plt\n",
    "plt.figure(figsize = (15,30))\n",
    "plt.imshow(df,interpolation='none')\n",
    "plt.yticks(range(len(df)),df.index)\n",
    "plt.colorbar()"
   ]
  },
  {
   "cell_type": "code",
   "execution_count": null,
   "id": "6c19f27f",
   "metadata": {},
   "outputs": [],
   "source": []
  }
 ],
 "metadata": {
  "kernelspec": {
   "display_name": "Python 3 (ipykernel)",
   "language": "python",
   "name": "python3"
  },
  "language_info": {
   "codemirror_mode": {
    "name": "ipython",
    "version": 3
   },
   "file_extension": ".py",
   "mimetype": "text/x-python",
   "name": "python",
   "nbconvert_exporter": "python",
   "pygments_lexer": "ipython3",
   "version": "3.9.16"
  }
 },
 "nbformat": 4,
 "nbformat_minor": 5
}
