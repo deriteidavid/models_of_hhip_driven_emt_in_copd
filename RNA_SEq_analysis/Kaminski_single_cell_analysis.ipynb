{
 "cells": [
  {
   "cell_type": "code",
   "execution_count": 1,
   "id": "eab61a93",
   "metadata": {},
   "outputs": [
    {
     "name": "stderr",
     "output_type": "stream",
     "text": [
      "<frozen importlib._bootstrap>:228: RuntimeWarning: scipy._lib.messagestream.MessageStream size changed, may indicate binary incompatibility. Expected 56 from C header, got 64 from PyObject\n"
     ]
    }
   ],
   "source": [
    "import scanpy\n",
    "import pandas as pd"
   ]
  },
  {
   "cell_type": "code",
   "execution_count": 2,
   "id": "0379e159",
   "metadata": {},
   "outputs": [
    {
     "data": {
      "text/plain": [
       "'3.9.0'"
      ]
     },
     "execution_count": 2,
     "metadata": {},
     "output_type": "execute_result"
    }
   ],
   "source": [
    "import matplotlib\n",
    "matplotlib.__version__"
   ]
  },
  {
   "cell_type": "code",
   "execution_count": null,
   "id": "80ad9de9",
   "metadata": {},
   "outputs": [],
   "source": [
    "M = scanpy.read_mtx('GSE136831_RawCounts_Sparse.mtx/RawCounts_Sparse.mtx')\n",
    "df_m = M.to_df()"
   ]
  },
  {
   "cell_type": "code",
   "execution_count": 8,
   "id": "7894cbb0",
   "metadata": {},
   "outputs": [],
   "source": [
    "df_meta = pd.read_csv('GSE136831_AllCells.Samples.CellType.MetadataTable.txt', sep='\\t', index_col=0)"
   ]
  },
  {
   "cell_type": "code",
   "execution_count": 9,
   "id": "8490ee57",
   "metadata": {},
   "outputs": [
    {
     "data": {
      "text/plain": [
       "0                 TSPAN6\n",
       "1                   TNMD\n",
       "2                   DPM1\n",
       "3                  SCYL3\n",
       "4               C1orf112\n",
       "              ...       \n",
       "45942    ENSG00000227029\n",
       "45943          RN7SL782P\n",
       "45944    ENSG00000274532\n",
       "45945    ENSG00000277705\n",
       "45946    ENSG00000280139\n",
       "Name: HGNC_EnsemblAlt_GeneID, Length: 45947, dtype: object"
      ]
     },
     "execution_count": 9,
     "metadata": {},
     "output_type": "execute_result"
    }
   ],
   "source": [
    "df_genes = pd.read_csv('GSE136831_AllCells.GeneIDs.txt',sep='\\t')\n",
    "gene_array = df_genes['HGNC_EnsemblAlt_GeneID']\n",
    "gene_array"
   ]
  },
  {
   "cell_type": "code",
   "execution_count": 7,
   "id": "68689a22",
   "metadata": {},
   "outputs": [
    {
     "data": {
      "text/plain": [
       "0         001C_AAACCTGCATCGGGTC\n",
       "1         001C_AAACCTGTCAACACCA\n",
       "2         001C_AAACCTGTCACAGTAC\n",
       "3         001C_AAACCTGTCTGTCTAT\n",
       "4         001C_AAACGGGAGACTAAGT\n",
       "                  ...          \n",
       "312923     8CO_TTGTAGGCATCACGTA\n",
       "312924     8CO_TTGTAGGTCCAGATCA\n",
       "312925     8CO_TTTATGCGTAGGCTGA\n",
       "312926     8CO_TTTGGTTTCTGCAAGT\n",
       "312927     8CO_TTTGTCAAGCCCTAAT\n",
       "Name: barcode, Length: 312928, dtype: object"
      ]
     },
     "execution_count": 7,
     "metadata": {},
     "output_type": "execute_result"
    }
   ],
   "source": [
    "df_barcodes = pd.read_csv('GSE136831_AllCells.cellBarcodes.txt',sep='\\t',names = ['barcode'])\n",
    "barcode_array = df_barcodes['barcode']\n",
    "barcode_array"
   ]
  },
  {
   "cell_type": "code",
   "execution_count": null,
   "id": "9dc92b69",
   "metadata": {},
   "outputs": [],
   "source": [
    "df_m.shape"
   ]
  },
  {
   "cell_type": "code",
   "execution_count": null,
   "id": "95e3e281",
   "metadata": {},
   "outputs": [],
   "source": [
    "df_m.columns= barcode_array"
   ]
  },
  {
   "cell_type": "code",
   "execution_count": null,
   "id": "8dc272f8",
   "metadata": {},
   "outputs": [],
   "source": [
    "df_m.index = gene_array"
   ]
  },
  {
   "cell_type": "code",
   "execution_count": null,
   "id": "14a483ad",
   "metadata": {},
   "outputs": [],
   "source": [
    "df_m"
   ]
  },
  {
   "cell_type": "code",
   "execution_count": 10,
   "id": "d5e27ac4",
   "metadata": {},
   "outputs": [
    {
     "data": {
      "text/html": [
       "<div>\n",
       "<style scoped>\n",
       "    .dataframe tbody tr th:only-of-type {\n",
       "        vertical-align: middle;\n",
       "    }\n",
       "\n",
       "    .dataframe tbody tr th {\n",
       "        vertical-align: top;\n",
       "    }\n",
       "\n",
       "    .dataframe thead th {\n",
       "        text-align: right;\n",
       "    }\n",
       "</style>\n",
       "<table border=\"1\" class=\"dataframe\">\n",
       "  <thead>\n",
       "    <tr style=\"text-align: right;\">\n",
       "      <th></th>\n",
       "      <th>nUMI</th>\n",
       "      <th>nGene</th>\n",
       "      <th>CellType_Category</th>\n",
       "      <th>Manuscript_Identity</th>\n",
       "      <th>Subclass_Cell_Identity</th>\n",
       "      <th>Disease_Identity</th>\n",
       "      <th>Subject_Identity</th>\n",
       "      <th>Library_Identity</th>\n",
       "    </tr>\n",
       "    <tr>\n",
       "      <th>CellBarcode_Identity</th>\n",
       "      <th></th>\n",
       "      <th></th>\n",
       "      <th></th>\n",
       "      <th></th>\n",
       "      <th></th>\n",
       "      <th></th>\n",
       "      <th></th>\n",
       "      <th></th>\n",
       "    </tr>\n",
       "  </thead>\n",
       "  <tbody>\n",
       "    <tr>\n",
       "      <th>001C_AAAGTAGCAATGACCT</th>\n",
       "      <td>2282</td>\n",
       "      <td>1474</td>\n",
       "      <td>Epithelial</td>\n",
       "      <td>Basal</td>\n",
       "      <td>Basal</td>\n",
       "      <td>Control</td>\n",
       "      <td>001C</td>\n",
       "      <td>001C</td>\n",
       "    </tr>\n",
       "    <tr>\n",
       "      <th>001C_AACCGCGGTTATGTGC</th>\n",
       "      <td>4709</td>\n",
       "      <td>2548</td>\n",
       "      <td>Epithelial</td>\n",
       "      <td>Basal</td>\n",
       "      <td>Basal</td>\n",
       "      <td>Control</td>\n",
       "      <td>001C</td>\n",
       "      <td>001C</td>\n",
       "    </tr>\n",
       "    <tr>\n",
       "      <th>001C_ACACCCTCATTGTGCA</th>\n",
       "      <td>2079</td>\n",
       "      <td>1047</td>\n",
       "      <td>Epithelial</td>\n",
       "      <td>ATII</td>\n",
       "      <td>ATII_Low-Surfactants</td>\n",
       "      <td>Control</td>\n",
       "      <td>001C</td>\n",
       "      <td>001C</td>\n",
       "    </tr>\n",
       "    <tr>\n",
       "      <th>001C_ACAGCCGGTGTTGGGA</th>\n",
       "      <td>2830</td>\n",
       "      <td>1591</td>\n",
       "      <td>Epithelial</td>\n",
       "      <td>ATI</td>\n",
       "      <td>ATI</td>\n",
       "      <td>Control</td>\n",
       "      <td>001C</td>\n",
       "      <td>001C</td>\n",
       "    </tr>\n",
       "    <tr>\n",
       "      <th>001C_ACCGTAATCACTTCAT</th>\n",
       "      <td>10940</td>\n",
       "      <td>3782</td>\n",
       "      <td>Epithelial</td>\n",
       "      <td>Basal</td>\n",
       "      <td>Basal</td>\n",
       "      <td>Control</td>\n",
       "      <td>001C</td>\n",
       "      <td>001C</td>\n",
       "    </tr>\n",
       "    <tr>\n",
       "      <th>...</th>\n",
       "      <td>...</td>\n",
       "      <td>...</td>\n",
       "      <td>...</td>\n",
       "      <td>...</td>\n",
       "      <td>...</td>\n",
       "      <td>...</td>\n",
       "      <td>...</td>\n",
       "      <td>...</td>\n",
       "    </tr>\n",
       "    <tr>\n",
       "      <th>8CO_TCAGATGTCTTTAGGG</th>\n",
       "      <td>12581</td>\n",
       "      <td>4501</td>\n",
       "      <td>Epithelial</td>\n",
       "      <td>ATI</td>\n",
       "      <td>ATI</td>\n",
       "      <td>COPD</td>\n",
       "      <td>8CO</td>\n",
       "      <td>8CO</td>\n",
       "    </tr>\n",
       "    <tr>\n",
       "      <th>8CO_TGCCCATGTTATGTGC</th>\n",
       "      <td>8682</td>\n",
       "      <td>3171</td>\n",
       "      <td>Epithelial</td>\n",
       "      <td>ATI</td>\n",
       "      <td>ATI</td>\n",
       "      <td>COPD</td>\n",
       "      <td>8CO</td>\n",
       "      <td>8CO</td>\n",
       "    </tr>\n",
       "    <tr>\n",
       "      <th>8CO_TGGTTCCGTCTCACCT</th>\n",
       "      <td>4976</td>\n",
       "      <td>2147</td>\n",
       "      <td>Epithelial</td>\n",
       "      <td>ATII</td>\n",
       "      <td>ATII_Low-Surfactants</td>\n",
       "      <td>COPD</td>\n",
       "      <td>8CO</td>\n",
       "      <td>8CO</td>\n",
       "    </tr>\n",
       "    <tr>\n",
       "      <th>8CO_TTGCCGTGTAAGTGTA</th>\n",
       "      <td>6472</td>\n",
       "      <td>2973</td>\n",
       "      <td>Epithelial</td>\n",
       "      <td>ATI</td>\n",
       "      <td>ATI</td>\n",
       "      <td>COPD</td>\n",
       "      <td>8CO</td>\n",
       "      <td>8CO</td>\n",
       "    </tr>\n",
       "    <tr>\n",
       "      <th>8CO_TTGGCAAGTTCTGAAC</th>\n",
       "      <td>21097</td>\n",
       "      <td>4943</td>\n",
       "      <td>Epithelial</td>\n",
       "      <td>ATII</td>\n",
       "      <td>ATII_High-Surfactants</td>\n",
       "      <td>COPD</td>\n",
       "      <td>8CO</td>\n",
       "      <td>8CO</td>\n",
       "    </tr>\n",
       "  </tbody>\n",
       "</table>\n",
       "<p>21184 rows × 8 columns</p>\n",
       "</div>"
      ],
      "text/plain": [
       "                        nUMI  nGene CellType_Category Manuscript_Identity  \\\n",
       "CellBarcode_Identity                                                        \n",
       "001C_AAAGTAGCAATGACCT   2282   1474        Epithelial               Basal   \n",
       "001C_AACCGCGGTTATGTGC   4709   2548        Epithelial               Basal   \n",
       "001C_ACACCCTCATTGTGCA   2079   1047        Epithelial                ATII   \n",
       "001C_ACAGCCGGTGTTGGGA   2830   1591        Epithelial                 ATI   \n",
       "001C_ACCGTAATCACTTCAT  10940   3782        Epithelial               Basal   \n",
       "...                      ...    ...               ...                 ...   \n",
       "8CO_TCAGATGTCTTTAGGG   12581   4501        Epithelial                 ATI   \n",
       "8CO_TGCCCATGTTATGTGC    8682   3171        Epithelial                 ATI   \n",
       "8CO_TGGTTCCGTCTCACCT    4976   2147        Epithelial                ATII   \n",
       "8CO_TTGCCGTGTAAGTGTA    6472   2973        Epithelial                 ATI   \n",
       "8CO_TTGGCAAGTTCTGAAC   21097   4943        Epithelial                ATII   \n",
       "\n",
       "                      Subclass_Cell_Identity Disease_Identity  \\\n",
       "CellBarcode_Identity                                            \n",
       "001C_AAAGTAGCAATGACCT                  Basal          Control   \n",
       "001C_AACCGCGGTTATGTGC                  Basal          Control   \n",
       "001C_ACACCCTCATTGTGCA   ATII_Low-Surfactants          Control   \n",
       "001C_ACAGCCGGTGTTGGGA                    ATI          Control   \n",
       "001C_ACCGTAATCACTTCAT                  Basal          Control   \n",
       "...                                      ...              ...   \n",
       "8CO_TCAGATGTCTTTAGGG                     ATI             COPD   \n",
       "8CO_TGCCCATGTTATGTGC                     ATI             COPD   \n",
       "8CO_TGGTTCCGTCTCACCT    ATII_Low-Surfactants             COPD   \n",
       "8CO_TTGCCGTGTAAGTGTA                     ATI             COPD   \n",
       "8CO_TTGGCAAGTTCTGAAC   ATII_High-Surfactants             COPD   \n",
       "\n",
       "                      Subject_Identity Library_Identity  \n",
       "CellBarcode_Identity                                     \n",
       "001C_AAAGTAGCAATGACCT             001C             001C  \n",
       "001C_AACCGCGGTTATGTGC             001C             001C  \n",
       "001C_ACACCCTCATTGTGCA             001C             001C  \n",
       "001C_ACAGCCGGTGTTGGGA             001C             001C  \n",
       "001C_ACCGTAATCACTTCAT             001C             001C  \n",
       "...                                ...              ...  \n",
       "8CO_TCAGATGTCTTTAGGG               8CO              8CO  \n",
       "8CO_TGCCCATGTTATGTGC               8CO              8CO  \n",
       "8CO_TGGTTCCGTCTCACCT               8CO              8CO  \n",
       "8CO_TTGCCGTGTAAGTGTA               8CO              8CO  \n",
       "8CO_TTGGCAAGTTCTGAAC               8CO              8CO  \n",
       "\n",
       "[21184 rows x 8 columns]"
      ]
     },
     "execution_count": 10,
     "metadata": {},
     "output_type": "execute_result"
    }
   ],
   "source": [
    "df_meta_cell_type = df_meta[df_meta['CellType_Category'] == 'Epithelial']\n",
    "df_meta_cell_type"
   ]
  },
  {
   "cell_type": "code",
   "execution_count": 11,
   "id": "c5e12580",
   "metadata": {},
   "outputs": [
    {
     "data": {
      "text/plain": [
       "Index(['052CO-a_AAACGGGGTCGGATCC', '052CO-a_AAACGGGGTTATCGGT',\n",
       "       '052CO-a_AAAGCAACAAGACACG', '052CO-a_AAATGCCTCATTGCGA',\n",
       "       '052CO-a_AACCGCGAGACTGGGT', '052CO-a_AACTGGTAGCTAGTTC',\n",
       "       '052CO-a_AAGACCTGTCCCGACA', '052CO-a_AAGCCGCTCGGTCTAA',\n",
       "       '052CO-a_AAGTCTGTCGGCCGAT', '052CO-a_AATCCAGAGCTGCGAA',\n",
       "       ...\n",
       "       '8CO_GTACTCCTCTGCTTGC', '8CO_GTCAAGTAGGTGCAAC', '8CO_GTCTCGTAGAGTGACC',\n",
       "       '8CO_GTTCATTTCCAAAGTC', '8CO_TACGGATTCCTGCTTG', '8CO_TCAGATGTCTTTAGGG',\n",
       "       '8CO_TGCCCATGTTATGTGC', '8CO_TGGTTCCGTCTCACCT', '8CO_TTGCCGTGTAAGTGTA',\n",
       "       '8CO_TTGGCAAGTTCTGAAC'],\n",
       "      dtype='object', name='CellBarcode_Identity', length=3154)"
      ]
     },
     "execution_count": 11,
     "metadata": {},
     "output_type": "execute_result"
    }
   ],
   "source": [
    "COPD_barcodes = df_meta_cell_type[df_meta_cell_type['Disease_Identity'] == 'COPD'].index\n",
    "COPD_barcodes"
   ]
  },
  {
   "cell_type": "code",
   "execution_count": 12,
   "id": "686b1547",
   "metadata": {},
   "outputs": [
    {
     "data": {
      "text/plain": [
       "Index(['001C_AAAGTAGCAATGACCT', '001C_AACCGCGGTTATGTGC',\n",
       "       '001C_ACACCCTCATTGTGCA', '001C_ACAGCCGGTGTTGGGA',\n",
       "       '001C_ACCGTAATCACTTCAT', '001C_ACTATCTTCTGACCTC',\n",
       "       '001C_ACTTTCAAGGCGACAT', '001C_AGCTCCTTCCAGGGCT',\n",
       "       '001C_AGGGAGTGTTGTGGAG', '001C_AGGGATGCATCATCCC',\n",
       "       ...\n",
       "       '483C_TGTATTCCACGAGAGT', '483C_TTAGGCACACTTAAGC',\n",
       "       '483C_TTGGAACAGACAGACC', '483C_TTGTAGGTCAACACAC',\n",
       "       '483C_TTTCCTCAGCCCAATT', '484C_CTGTTTAGTCACCCAG',\n",
       "       '484C_GAGTCCGGTAAGGGCT', '484C_GGACAAGCAAGCGCTC',\n",
       "       '484C_GTTACAGCATGTAAGA', '484C_TCAATCTAGGTGATAT'],\n",
       "      dtype='object', name='CellBarcode_Identity', length=4807)"
      ]
     },
     "execution_count": 12,
     "metadata": {},
     "output_type": "execute_result"
    }
   ],
   "source": [
    "control_barcodes = df_meta_cell_type[df_meta_cell_type['Disease_Identity'] == 'Control'].index\n",
    "control_barcodes"
   ]
  },
  {
   "cell_type": "code",
   "execution_count": null,
   "id": "e4e069c5",
   "metadata": {},
   "outputs": [],
   "source": [
    "df_epithelial = df_m[df_meta_cell_type.index]\n",
    "df_epithelial"
   ]
  },
  {
   "cell_type": "code",
   "execution_count": null,
   "id": "a1604774",
   "metadata": {},
   "outputs": [],
   "source": [
    "#run this only when doing a clean run\n",
    "#df_epithelial.to_csv('epithelial.csv')"
   ]
  },
  {
   "cell_type": "code",
   "execution_count": 1,
   "id": "46f9522a",
   "metadata": {},
   "outputs": [
    {
     "name": "stderr",
     "output_type": "stream",
     "text": [
      "<frozen importlib._bootstrap>:228: RuntimeWarning: scipy._lib.messagestream.MessageStream size changed, may indicate binary incompatibility. Expected 56 from C header, got 64 from PyObject\n"
     ]
    }
   ],
   "source": [
    "import pandas as pd\n",
    "from bioinfokit.analys import norm\n",
    "\n",
    "df_epithelial = pd.read_csv('epithelial.csv')\n"
   ]
  },
  {
   "cell_type": "code",
   "execution_count": 2,
   "id": "cf05b182",
   "metadata": {},
   "outputs": [],
   "source": [
    "df_epithelial=df_epithelial.set_index('HGNC_EnsemblAlt_GeneID')"
   ]
  },
  {
   "cell_type": "code",
   "execution_count": 3,
   "id": "afa75f50",
   "metadata": {},
   "outputs": [],
   "source": [
    "nm = norm()\n",
    "nm.cpm(df=df_epithelial)\n",
    "# get CPM normalized dataframe\n",
    "tpm_df = nm.cpm_norm"
   ]
  },
  {
   "cell_type": "code",
   "execution_count": 4,
   "id": "6a3dc5f2",
   "metadata": {},
   "outputs": [],
   "source": [
    "cpm_df=tpm_df"
   ]
  },
  {
   "cell_type": "code",
   "execution_count": 5,
   "id": "ebdf5444",
   "metadata": {},
   "outputs": [],
   "source": [
    "genes = ['HHIP', 'GLI1', 'GLI2', 'SNAI1', 'SNAI2', 'ZEB1', 'CDH1', 'CDH2']"
   ]
  },
  {
   "cell_type": "code",
   "execution_count": 13,
   "id": "543a7cc6",
   "metadata": {},
   "outputs": [
    {
     "name": "stdout",
     "output_type": "stream",
     "text": [
      "HHIP 5774063.5 3.6994565021431086e-151 copd mean: 0.3841776285331297 control mean: 2.3108323068486825\n",
      "GLI1 7596961.0 0.0931095172651441 copd mean: 0.03033073490635729 control mean: 0.015145206405450013\n",
      "GLI2 7749633.0 8.601086846955609e-08 copd mean: 0.32780747598726084 control mean: 0.17112509181128305\n",
      "SNAI1 7606224.5 0.08067466630711698 copd mean: 0.06141047299545743 control mean: 0.037102839675554375\n",
      "SNAI2 7576305.0 0.6734883418719926 copd mean: 0.022173140239358857 control mean: 0.024207437397832637\n",
      "ZEB1 8064765.5 8.156098585336356e-30 copd mean: 0.7651380634322076 control mean: 0.2824116892839412\n",
      "CDH1 7148923.0 1.489837551637667e-05 copd mean: 6.598615376273662 control mean: 7.435662148805776\n",
      "CDH2 7807305.0 1.2562364075807138e-17 copd mean: 0.3052891912207196 control mean: 0.08162581270036329\n"
     ]
    },
    {
     "data": {
      "image/png": "[encoded data removed]",
      "text/plain": [
       "<Figure size 1080x576 with 1 Axes>"
      ]
     },
     "metadata": {
      "needs_background": "light"
     },
     "output_type": "display_data"
    }
   ],
   "source": [
    "import matplotlib.pyplot as plt\n",
    "import scipy.stats as stats\n",
    "import numpy as np\n",
    "import seaborn as sns\n",
    "#gene = 'HHIP'    \n",
    "\n",
    "\n",
    "space_between_groups=2\n",
    "space_within_groups=0.8\n",
    "x1=1\n",
    "x2=1+space_within_groups\n",
    "\n",
    "\n",
    "medianprops = dict(linestyle='--', linewidth=2.5, color='purple')\n",
    "meanprops = dict(linestyle='-', linewidth=2.5, color='red')\n",
    "fig, ax = plt.subplots(1,1,figsize=(15,8))\n",
    "\n",
    "for gene in genes:\n",
    "    \n",
    "    copd_values=np.log2(cpm_df[COPD_barcodes].loc[gene].values+1)\n",
    "    control_values=np.log2(cpm_df[control_barcodes].loc[gene].values+1)\n",
    "\n",
    "    #bp = ax.boxplot([copd_values,control_values], positions = [x1, x2], widths = 0.5,patch_artist=True,medianprops=medianprops)\n",
    "    bp = ax.violinplot([copd_values,control_values], positions = [x1, x2], widths = .75, showmeans=True, showmedians=True)\n",
    "    colors=['orange','blue']\n",
    "    #for patch, color in zip(bp['boxes'], colors):\n",
    "    for patch, color in zip(bp['bodies'], colors):\n",
    "        patch.set_facecolor(color)\n",
    "        patch.set_alpha(0.5)\n",
    "    bp['cmeans'].set_color(meanprops['color'])\n",
    "    bp['cmeans'].set_linewidth(meanprops['linewidth'])\n",
    "    bp['cmedians'].set_color(medianprops['color'])\n",
    "    bp['cmedians'].set_linewidth(medianprops['linewidth'])\n",
    "    bp['cbars'].set_color('grey')\n",
    "    bp['cmins'].set_color('grey')\n",
    "    bp['cmaxes'].set_color('grey')\n",
    "    \n",
    "    t_statistic_0,p_value_0=stats.mannwhitneyu(copd_values, control_values) \n",
    "    #t_statistic_0,p_value_0=stats.ranksums(copd_values, control_values) \n",
    "    print(gene,t_statistic_0,p_value_0, 'copd mean:', np.mean(copd_values), 'control mean:', np.mean(control_values))\n",
    "\n",
    "    y = max(list(copd_values)+list(control_values))+0.1\n",
    "    h = 0.5\n",
    "    if p_value_0<0.05:\n",
    "        stars=str(r'$p={:.2e}$'.format(p_value_0 ))\n",
    "        if t_statistic_0<0:\n",
    "            col='red'\n",
    "        else:\n",
    "            col='black'\n",
    "        ax.plot([x1, x1, x2, x2], [y, y+h, y+h, y], lw=1, c=col)\n",
    "        ax.text((x1+x2)*.5, y+h, stars, ha='center', va='bottom', color=col, fontsize=12)\n",
    "\n",
    "\n",
    "    x1+=space_between_groups\n",
    "    x2+=space_between_groups\n",
    "\n",
    "ax.tick_params(axis='y', which='major', labelsize=16)\n",
    "ax.set_xticks(np.arange(1,len(genes)*space_between_groups,space_between_groups)+0.5*space_within_groups)\n",
    "ax.set_xticklabels(genes,fontsize=18)\n",
    "fig.tight_layout()\n",
    "#ax.axhline(y=local_min,color='red')\n",
    "#axs[0,0].axhline(y=local_min,color='red')\n",
    "ax.legend([bp[\"bodies\"][0],bp[\"bodies\"][1],bp['cmeans'],bp['cmedians']],['COPD','Control','Mean', 'Median'],loc='center left', bbox_to_anchor=(1, 0.5),fontsize=18)\n",
    "#ax.legend([bp[\"boxes\"][0],bp[\"boxes\"][1]],['COPD','Control'],loc='center left', bbox_to_anchor=(1, 0.5))\n",
    "sns.despine()\n",
    "ax.set_ylabel(r'$Log_2 (CPM)$', fontsize=18)\n",
    "ax.text(ax.get_xlim()[0]-1,ax.get_ylim()[1]+.2,'B',fontsize=32)\n",
    "plt.savefig('figures/Figure6B.png',bbox_inches='tight',dpi=300)\n",
    "plt.savefig('figures/Figure6B.pdf',bbox_inches='tight')"
   ]
  },
  {
   "cell_type": "code",
   "execution_count": null,
   "id": "906e0101",
   "metadata": {},
   "outputs": [],
   "source": []
  },
  {
   "cell_type": "code",
   "execution_count": null,
   "id": "5b84d06f",
   "metadata": {},
   "outputs": [],
   "source": []
  }
 ],
 "metadata": {
  "kernelspec": {
   "display_name": "Python 3 (ipykernel)",
   "language": "python",
   "name": "python3"
  },
  "language_info": {
   "codemirror_mode": {
    "name": "ipython",
    "version": 3
   },
   "file_extension": ".py",
   "mimetype": "text/x-python",
   "name": "python",
   "nbconvert_exporter": "python",
   "pygments_lexer": "ipython3",
   "version": "3.9.7"
  }
 },
 "nbformat": 4,
 "nbformat_minor": 5
}
